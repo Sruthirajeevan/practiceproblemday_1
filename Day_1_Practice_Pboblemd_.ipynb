{
  "nbformat": 4,
  "nbformat_minor": 0,
  "metadata": {
    "colab": {
      "provenance": []
    },
    "kernelspec": {
      "name": "python3",
      "display_name": "Python 3"
    },
    "language_info": {
      "name": "python"
    }
  },
  "cells": [
    {
      "cell_type": "code",
      "execution_count": null,
      "metadata": {
        "id": "fFjGI6pgLPnb"
      },
      "outputs": [],
      "source": []
    },
    {
      "cell_type": "markdown",
      "source": [
        "1.Answer"
      ],
      "metadata": {
        "id": "i2RtLEE-LjWL"
      }
    },
    {
      "cell_type": "code",
      "source": [
        "str=\"Hello, World!\"\n",
        "print(str[0:5])"
      ],
      "metadata": {
        "colab": {
          "base_uri": "https://localhost:8080/"
        },
        "id": "TqdBH77NLuQC",
        "outputId": "0e49ed39-b4d3-40ef-bbb6-8166d77d91a5"
      },
      "execution_count": 1,
      "outputs": [
        {
          "output_type": "stream",
          "name": "stdout",
          "text": [
            "Hello\n"
          ]
        }
      ]
    },
    {
      "cell_type": "markdown",
      "source": [
        "2.Answer"
      ],
      "metadata": {
        "id": "T4DCRDkpMw5O"
      }
    },
    {
      "cell_type": "code",
      "source": [
        "str1=\"Python is fun\"\n",
        "print(str1[7:9])"
      ],
      "metadata": {
        "colab": {
          "base_uri": "https://localhost:8080/"
        },
        "id": "vmYBAo3dL7wi",
        "outputId": "88de262b-2135-454b-e5a1-498d05f15b34"
      },
      "execution_count": 2,
      "outputs": [
        {
          "output_type": "stream",
          "name": "stdout",
          "text": [
            "is\n"
          ]
        }
      ]
    },
    {
      "cell_type": "markdown",
      "source": [
        "3.Answer"
      ],
      "metadata": {
        "id": "tQsO9ILIM1BZ"
      }
    },
    {
      "cell_type": "code",
      "source": [
        "str2=\"Programming\"\n",
        "print(str2[3:7])"
      ],
      "metadata": {
        "colab": {
          "base_uri": "https://localhost:8080/"
        },
        "id": "m7kNOkEXMQ6G",
        "outputId": "c5883d85-70af-4a2d-f975-9da78512c303"
      },
      "execution_count": 5,
      "outputs": [
        {
          "output_type": "stream",
          "name": "stdout",
          "text": [
            "gram\n"
          ]
        }
      ]
    },
    {
      "cell_type": "markdown",
      "source": [
        "4.Answer"
      ],
      "metadata": {
        "id": "EdjiQWo-M9DL"
      }
    },
    {
      "cell_type": "code",
      "source": [
        "str3=\"abcdefgh\"\n",
        "print(str3[2:8:2])"
      ],
      "metadata": {
        "colab": {
          "base_uri": "https://localhost:8080/"
        },
        "id": "JcfAjZ3aMoI2",
        "outputId": "49a37dab-99a0-4046-c030-d834d453ce7d"
      },
      "execution_count": 10,
      "outputs": [
        {
          "output_type": "stream",
          "name": "stdout",
          "text": [
            "ceg\n"
          ]
        }
      ]
    },
    {
      "cell_type": "markdown",
      "source": [
        "5.Answer"
      ],
      "metadata": {
        "id": "YUKkH8W2Nxs3"
      }
    },
    {
      "cell_type": "code",
      "source": [
        "str4=\"abcdefg\"\n",
        "print(str4[-3:])"
      ],
      "metadata": {
        "colab": {
          "base_uri": "https://localhost:8080/"
        },
        "id": "ZMlKXJltNZBq",
        "outputId": "85cc8253-25f1-446c-9a93-d8e7c7327a57"
      },
      "execution_count": 12,
      "outputs": [
        {
          "output_type": "stream",
          "name": "stdout",
          "text": [
            "efg\n"
          ]
        }
      ]
    },
    {
      "cell_type": "markdown",
      "source": [
        "6.Answer"
      ],
      "metadata": {
        "id": "qSGn8h40NukZ"
      }
    },
    {
      "cell_type": "code",
      "source": [
        "str5=\"Data Science\"\n",
        "print(str5[-3:])"
      ],
      "metadata": {
        "colab": {
          "base_uri": "https://localhost:8080/"
        },
        "id": "5Te96ut3OLRr",
        "outputId": "7433b565-b209-49ee-a4a5-aa9444780ecb"
      },
      "execution_count": 13,
      "outputs": [
        {
          "output_type": "stream",
          "name": "stdout",
          "text": [
            "nce\n"
          ]
        }
      ]
    },
    {
      "cell_type": "markdown",
      "source": [
        "7.Answer"
      ],
      "metadata": {
        "id": "jvhJtADNOnsL"
      }
    },
    {
      "cell_type": "code",
      "source": [
        "str6=\"abcdefghij\"\n",
        "print(str6[1:10:2])"
      ],
      "metadata": {
        "colab": {
          "base_uri": "https://localhost:8080/"
        },
        "id": "QD1cxzB8OiiF",
        "outputId": "ae1dd35b-9fdf-42b8-eb79-a93f1c747083"
      },
      "execution_count": 15,
      "outputs": [
        {
          "output_type": "stream",
          "name": "stdout",
          "text": [
            "bdfhj\n"
          ]
        }
      ]
    },
    {
      "cell_type": "markdown",
      "source": [
        "8.Answer"
      ],
      "metadata": {
        "id": "Vj9ILn1zQc9o"
      }
    },
    {
      "cell_type": "code",
      "source": [
        "str7=\"1234567890\"\n",
        "print(str7[0:10:2])"
      ],
      "metadata": {
        "colab": {
          "base_uri": "https://localhost:8080/"
        },
        "id": "NPaOOlynPMOE",
        "outputId": "de881ef0-cce3-489b-b961-1e925e5207e0"
      },
      "execution_count": 19,
      "outputs": [
        {
          "output_type": "stream",
          "name": "stdout",
          "text": [
            "13579\n"
          ]
        }
      ]
    },
    {
      "cell_type": "markdown",
      "source": [
        "9.Answer"
      ],
      "metadata": {
        "id": "UlkWINTQQbF8"
      }
    },
    {
      "cell_type": "code",
      "source": [
        "str8=\"hello\"\n",
        "print(str8[::-1])"
      ],
      "metadata": {
        "colab": {
          "base_uri": "https://localhost:8080/"
        },
        "id": "ZmH37zvoP8Ll",
        "outputId": "998eee02-b29a-4ee8-8c0e-ebf2e216d81a"
      },
      "execution_count": 21,
      "outputs": [
        {
          "output_type": "stream",
          "name": "stdout",
          "text": [
            "olleh\n"
          ]
        }
      ]
    },
    {
      "cell_type": "markdown",
      "source": [
        "10.Answer"
      ],
      "metadata": {
        "id": "ThEiCahdQ_o_"
      }
    },
    {
      "cell_type": "code",
      "source": [
        "str9=\"abcdefghijk\"\n",
        "print(str9[0:11:2])"
      ],
      "metadata": {
        "colab": {
          "base_uri": "https://localhost:8080/"
        },
        "id": "kfsyo-H9Q6UF",
        "outputId": "1a8c9504-9253-4947-e656-83381a57cf04"
      },
      "execution_count": 23,
      "outputs": [
        {
          "output_type": "stream",
          "name": "stdout",
          "text": [
            "acegik\n"
          ]
        }
      ]
    }
  ]
}